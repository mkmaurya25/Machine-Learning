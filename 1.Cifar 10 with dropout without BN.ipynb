{
  "nbformat": 4,
  "nbformat_minor": 0,
  "metadata": {
    "kernelspec": {
      "display_name": "Python NNs venv",
      "language": "python",
      "name": "rnn_venv"
    },
    "language_info": {
      "codemirror_mode": {
        "name": "ipython",
        "version": 3
      },
      "file_extension": ".py",
      "mimetype": "text/x-python",
      "name": "python",
      "nbconvert_exporter": "python",
      "pygments_lexer": "ipython3",
      "version": "3.6.5"
    },
    "colab": {
      "name": "1.+Cifar_10_with_dropout_without_BN.ipynb",
      "provenance": []
    },
    "accelerator": "GPU"
  },
  "cells": [
    {
      "cell_type": "code",
      "metadata": {
        "id": "MOb9RlgVMxN6",
        "colab_type": "code",
        "colab": {}
      },
      "source": [
        "# import libraries\n",
        "from __future__ import print_function\n",
        "import keras\n",
        "from keras.datasets import cifar10\n",
        "from keras.preprocessing.image import ImageDataGenerator\n",
        "from keras.models import Sequential\n",
        "from keras.layers import Dense, Dropout, Activation, Flatten\n",
        "from keras.layers import Conv2D, MaxPooling2D\n",
        "import numpy as np\n",
        "import os\n",
        "import matplotlib.pyplot as plt\n",
        "%matplotlib inline"
      ],
      "execution_count": 0,
      "outputs": []
    },
    {
      "cell_type": "code",
      "metadata": {
        "id": "9xMp4mXgOKNL",
        "colab_type": "code",
        "outputId": "b830cf99-47f8-4f3c-ab7f-e76e0b1f39dd",
        "colab": {
          "base_uri": "https://localhost:8080/",
          "height": 35
        }
      },
      "source": [
        "import tensorflow as tf\n",
        "\n",
        "tf.__version__"
      ],
      "execution_count": 0,
      "outputs": [
        {
          "output_type": "execute_result",
          "data": {
            "text/plain": [
              "'1.15.0'"
            ]
          },
          "metadata": {
            "tags": []
          },
          "execution_count": 3
        }
      ]
    },
    {
      "cell_type": "code",
      "metadata": {
        "id": "_BnbWDycMxOO",
        "colab_type": "code",
        "colab": {}
      },
      "source": [
        "# batch, classes, epochs\n",
        "batch_size = 32\n",
        "num_classes = 10\n",
        "epochs = 50"
      ],
      "execution_count": 0,
      "outputs": []
    },
    {
      "cell_type": "code",
      "metadata": {
        "id": "6qzVe1boMxOX",
        "colab_type": "code",
        "outputId": "e5b14e44-a6f2-4da5-e1a4-23246623fce4",
        "colab": {
          "base_uri": "https://localhost:8080/",
          "height": 104
        }
      },
      "source": [
        "# The data, split between train and test sets:\n",
        "(x_train, y_train), (x_test, y_test) = cifar10.load_data()\n",
        "print('x_train shape:', x_train.shape)\n",
        "print(x_train.shape[0], 'train samples')\n",
        "print(x_test.shape[0], 'test samples')"
      ],
      "execution_count": 0,
      "outputs": [
        {
          "output_type": "stream",
          "text": [
            "Downloading data from https://www.cs.toronto.edu/~kriz/cifar-10-python.tar.gz\n",
            "170500096/170498071 [==============================] - 13s 0us/step\n",
            "x_train shape: (50000, 32, 32, 3)\n",
            "50000 train samples\n",
            "10000 test samples\n"
          ],
          "name": "stdout"
        }
      ]
    },
    {
      "cell_type": "code",
      "metadata": {
        "id": "6YA2Y5PNMxOh",
        "colab_type": "code",
        "outputId": "0fe28d6e-817e-434f-e7b1-97f0cb13de39",
        "colab": {
          "base_uri": "https://localhost:8080/",
          "height": 213
        }
      },
      "source": [
        "# plotting some random 10 images\n",
        "class_names = ['airplane','automobile','bird','cat','deer',\n",
        "               'dog','frog','horse','ship','truck']\n",
        "\n",
        "fig = plt.figure(figsize=(8,3))\n",
        "for i in range(num_classes):\n",
        "    ax = fig.add_subplot(2, 5, 1 + i, xticks=[], yticks=[])\n",
        "    idx = np.where(y_train[:]==i)[0]\n",
        "    features_idx = x_train[idx,::]\n",
        "    img_num = np.random.randint(features_idx.shape[0])\n",
        "    im = (features_idx[img_num,::])\n",
        "    ax.set_title(class_names[i])\n",
        "    plt.imshow(im)\n",
        "plt.show()"
      ],
      "execution_count": 0,
      "outputs": [
        {
          "output_type": "display_data",
          "data": {
            "image/png": "[encoded data removed]",
            "text/plain": [
              "<Figure size 576x216 with 10 Axes>"
            ]
          },
          "metadata": {
            "tags": []
          }
        }
      ]
    },
    {
      "cell_type": "code",
      "metadata": {
        "id": "HrPt-VtHMxOm",
        "colab_type": "code",
        "colab": {}
      },
      "source": [
        "# Convert class vectors to binary class matrices.\n",
        "y_train = keras.utils.to_categorical(y_train, num_classes)\n",
        "y_test = keras.utils.to_categorical(y_test, num_classes)"
      ],
      "execution_count": 0,
      "outputs": []
    },
    {
      "cell_type": "code",
      "metadata": {
        "id": "mZxIe60GMxOs",
        "colab_type": "code",
        "outputId": "d917a6ad-a5b0-4eb8-d843-c7e2058b094d",
        "colab": {
          "base_uri": "https://localhost:8080/",
          "height": 263
        }
      },
      "source": [
        "# model architecture\n",
        "model = Sequential()\n",
        "model.add(Conv2D(32, (3, 3), padding='same',\n",
        "                 input_shape=x_train.shape[1:]))\n",
        "model.add(Activation('relu'))\n",
        "model.add(Conv2D(32, (3, 3)))\n",
        "model.add(Activation('relu'))\n",
        "model.add(MaxPooling2D(pool_size=(2, 2)))\n",
        "model.add(Dropout(0.25))\n",
        "\n",
        "model.add(Conv2D(64, (3, 3), padding='same'))\n",
        "model.add(Activation('relu'))\n",
        "model.add(Conv2D(64, (3, 3)))\n",
        "model.add(Activation('relu'))\n",
        "model.add(MaxPooling2D(pool_size=(2, 2)))\n",
        "model.add(Dropout(0.25))\n",
        "\n",
        "model.add(Flatten())\n",
        "model.add(Dense(512))\n",
        "model.add(Activation('relu'))\n",
        "model.add(Dropout(0.5))\n",
        "model.add(Dense(num_classes))\n",
        "model.add(Activation('softmax'))"
      ],
      "execution_count": 0,
      "outputs": [
        {
          "output_type": "stream",
          "text": [
            "WARNING:tensorflow:From /usr/local/lib/python3.6/dist-packages/keras/backend/tensorflow_backend.py:66: The name tf.get_default_graph is deprecated. Please use tf.compat.v1.get_default_graph instead.\n",
            "\n",
            "WARNING:tensorflow:From /usr/local/lib/python3.6/dist-packages/keras/backend/tensorflow_backend.py:541: The name tf.placeholder is deprecated. Please use tf.compat.v1.placeholder instead.\n",
            "\n",
            "WARNING:tensorflow:From /usr/local/lib/python3.6/dist-packages/keras/backend/tensorflow_backend.py:4432: The name tf.random_uniform is deprecated. Please use tf.random.uniform instead.\n",
            "\n",
            "WARNING:tensorflow:From /usr/local/lib/python3.6/dist-packages/keras/backend/tensorflow_backend.py:4267: The name tf.nn.max_pool is deprecated. Please use tf.nn.max_pool2d instead.\n",
            "\n",
            "WARNING:tensorflow:From /usr/local/lib/python3.6/dist-packages/keras/backend/tensorflow_backend.py:148: The name tf.placeholder_with_default is deprecated. Please use tf.compat.v1.placeholder_with_default instead.\n",
            "\n",
            "WARNING:tensorflow:From /usr/local/lib/python3.6/dist-packages/keras/backend/tensorflow_backend.py:3733: calling dropout (from tensorflow.python.ops.nn_ops) with keep_prob is deprecated and will be removed in a future version.\n",
            "Instructions for updating:\n",
            "Please use `rate` instead of `keep_prob`. Rate should be set to `rate = 1 - keep_prob`.\n"
          ],
          "name": "stdout"
        }
      ]
    },
    {
      "cell_type": "code",
      "metadata": {
        "id": "lAXokTPBMxOy",
        "colab_type": "code",
        "outputId": "a5826e88-5a63-4741-fec9-301a71b0a076",
        "colab": {
          "base_uri": "https://localhost:8080/",
          "height": 780
        }
      },
      "source": [
        "# summary\n",
        "model.summary()"
      ],
      "execution_count": 0,
      "outputs": [
        {
          "output_type": "stream",
          "text": [
            "Model: \"sequential_1\"\n",
            "_________________________________________________________________\n",
            "Layer (type)                 Output Shape              Param #   \n",
            "=================================================================\n",
            "conv2d_1 (Conv2D)            (None, 32, 32, 32)        896       \n",
            "_________________________________________________________________\n",
            "activation_1 (Activation)    (None, 32, 32, 32)        0         \n",
            "_________________________________________________________________\n",
            "conv2d_2 (Conv2D)            (None, 30, 30, 32)        9248      \n",
            "_________________________________________________________________\n",
            "activation_2 (Activation)    (None, 30, 30, 32)        0         \n",
            "_________________________________________________________________\n",
            "max_pooling2d_1 (MaxPooling2 (None, 15, 15, 32)        0         \n",
            "_________________________________________________________________\n",
            "dropout_1 (Dropout)          (None, 15, 15, 32)        0         \n",
            "_________________________________________________________________\n",
            "conv2d_3 (Conv2D)            (None, 15, 15, 64)        18496     \n",
            "_________________________________________________________________\n",
            "activation_3 (Activation)    (None, 15, 15, 64)        0         \n",
            "_________________________________________________________________\n",
            "conv2d_4 (Conv2D)            (None, 13, 13, 64)        36928     \n",
            "_________________________________________________________________\n",
            "activation_4 (Activation)    (None, 13, 13, 64)        0         \n",
            "_________________________________________________________________\n",
            "max_pooling2d_2 (MaxPooling2 (None, 6, 6, 64)          0         \n",
            "_________________________________________________________________\n",
            "dropout_2 (Dropout)          (None, 6, 6, 64)          0         \n",
            "_________________________________________________________________\n",
            "flatten_1 (Flatten)          (None, 2304)              0         \n",
            "_________________________________________________________________\n",
            "dense_1 (Dense)              (None, 512)               1180160   \n",
            "_________________________________________________________________\n",
            "activation_5 (Activation)    (None, 512)               0         \n",
            "_________________________________________________________________\n",
            "dropout_3 (Dropout)          (None, 512)               0         \n",
            "_________________________________________________________________\n",
            "dense_2 (Dense)              (None, 10)                5130      \n",
            "_________________________________________________________________\n",
            "activation_6 (Activation)    (None, 10)                0         \n",
            "=================================================================\n",
            "Total params: 1,250,858\n",
            "Trainable params: 1,250,858\n",
            "Non-trainable params: 0\n",
            "_________________________________________________________________\n"
          ],
          "name": "stdout"
        }
      ]
    },
    {
      "cell_type": "code",
      "metadata": {
        "id": "ohhjJDbtMxO5",
        "colab_type": "code",
        "outputId": "efc8c576-e8f8-4881-88f8-03bf02f0d65d",
        "colab": {
          "base_uri": "https://localhost:8080/",
          "height": 107
        }
      },
      "source": [
        "# compile the model\n",
        "model.compile(loss='categorical_crossentropy',\n",
        "              optimizer='sgd',\n",
        "              metrics=['accuracy'])\n",
        "\n",
        "# convert to float, normalise the data\n",
        "x_train = x_train.astype('float32')\n",
        "x_test = x_test.astype('float32')\n",
        "x_train /= 255\n",
        "x_test /= 255\n"
      ],
      "execution_count": 0,
      "outputs": [
        {
          "output_type": "stream",
          "text": [
            "WARNING:tensorflow:From /usr/local/lib/python3.6/dist-packages/keras/optimizers.py:793: The name tf.train.Optimizer is deprecated. Please use tf.compat.v1.train.Optimizer instead.\n",
            "\n",
            "WARNING:tensorflow:From /usr/local/lib/python3.6/dist-packages/keras/backend/tensorflow_backend.py:3576: The name tf.log is deprecated. Please use tf.math.log instead.\n",
            "\n"
          ],
          "name": "stdout"
        }
      ]
    },
    {
      "cell_type": "code",
      "metadata": {
        "id": "yx9rkNrXMxO8",
        "colab_type": "code",
        "outputId": "7757c930-f8b4-4976-92b3-4cfb515c6626",
        "colab": {
          "base_uri": "https://localhost:8080/",
          "height": 1000
        }
      },
      "source": [
        "# train \n",
        "model.fit(x_train, y_train,\n",
        "              batch_size=batch_size,\n",
        "              epochs=epochs,\n",
        "              validation_data=(x_test, y_test),\n",
        "              shuffle=True)"
      ],
      "execution_count": 0,
      "outputs": [
        {
          "output_type": "stream",
          "text": [
            "WARNING:tensorflow:From /usr/local/lib/python3.6/dist-packages/tensorflow_core/python/ops/math_grad.py:1424: where (from tensorflow.python.ops.array_ops) is deprecated and will be removed in a future version.\n",
            "Instructions for updating:\n",
            "Use tf.where in 2.0, which has the same broadcast rule as np.where\n",
            "WARNING:tensorflow:From /usr/local/lib/python3.6/dist-packages/keras/backend/tensorflow_backend.py:1033: The name tf.assign_add is deprecated. Please use tf.compat.v1.assign_add instead.\n",
            "\n",
            "WARNING:tensorflow:From /usr/local/lib/python3.6/dist-packages/keras/backend/tensorflow_backend.py:1020: The name tf.assign is deprecated. Please use tf.compat.v1.assign instead.\n",
            "\n",
            "WARNING:tensorflow:From /usr/local/lib/python3.6/dist-packages/keras/backend/tensorflow_backend.py:3005: The name tf.Session is deprecated. Please use tf.compat.v1.Session instead.\n",
            "\n",
            "Train on 50000 samples, validate on 10000 samples\n",
            "Epoch 1/50\n",
            "WARNING:tensorflow:From /usr/local/lib/python3.6/dist-packages/keras/backend/tensorflow_backend.py:190: The name tf.get_default_session is deprecated. Please use tf.compat.v1.get_default_session instead.\n",
            "\n",
            "WARNING:tensorflow:From /usr/local/lib/python3.6/dist-packages/keras/backend/tensorflow_backend.py:197: The name tf.ConfigProto is deprecated. Please use tf.compat.v1.ConfigProto instead.\n",
            "\n",
            "WARNING:tensorflow:From /usr/local/lib/python3.6/dist-packages/keras/backend/tensorflow_backend.py:207: The name tf.global_variables is deprecated. Please use tf.compat.v1.global_variables instead.\n",
            "\n",
            "WARNING:tensorflow:From /usr/local/lib/python3.6/dist-packages/keras/backend/tensorflow_backend.py:216: The name tf.is_variable_initialized is deprecated. Please use tf.compat.v1.is_variable_initialized instead.\n",
            "\n",
            "WARNING:tensorflow:From /usr/local/lib/python3.6/dist-packages/keras/backend/tensorflow_backend.py:223: The name tf.variables_initializer is deprecated. Please use tf.compat.v1.variables_initializer instead.\n",
            "\n",
            "50000/50000 [==============================] - 25s 506us/step - loss: 2.0906 - acc: 0.2203 - val_loss: 1.8822 - val_acc: 0.3343\n",
            "Epoch 2/50\n",
            "50000/50000 [==============================] - 10s 203us/step - loss: 1.8041 - acc: 0.3458 - val_loss: 1.6894 - val_acc: 0.3839\n",
            "Epoch 3/50\n",
            "50000/50000 [==============================] - 10s 199us/step - loss: 1.6199 - acc: 0.4111 - val_loss: 1.4839 - val_acc: 0.4621\n",
            "Epoch 4/50\n",
            "50000/50000 [==============================] - 10s 198us/step - loss: 1.4882 - acc: 0.4569 - val_loss: 1.3969 - val_acc: 0.4988\n",
            "Epoch 5/50\n",
            "50000/50000 [==============================] - 10s 195us/step - loss: 1.3963 - acc: 0.4924 - val_loss: 1.2841 - val_acc: 0.5417\n",
            "Epoch 6/50\n",
            "50000/50000 [==============================] - 10s 198us/step - loss: 1.3268 - acc: 0.5220 - val_loss: 1.2186 - val_acc: 0.5645\n",
            "Epoch 7/50\n",
            "50000/50000 [==============================] - 10s 201us/step - loss: 1.2623 - acc: 0.5468 - val_loss: 1.1857 - val_acc: 0.5758\n",
            "Epoch 8/50\n",
            "50000/50000 [==============================] - 10s 198us/step - loss: 1.2103 - acc: 0.5681 - val_loss: 1.1159 - val_acc: 0.6037\n",
            "Epoch 9/50\n",
            "50000/50000 [==============================] - 10s 195us/step - loss: 1.1629 - acc: 0.5832 - val_loss: 1.0448 - val_acc: 0.6337\n",
            "Epoch 10/50\n",
            "50000/50000 [==============================] - 10s 201us/step - loss: 1.1144 - acc: 0.6020 - val_loss: 1.0151 - val_acc: 0.6402\n",
            "Epoch 11/50\n",
            "50000/50000 [==============================] - 10s 199us/step - loss: 1.0756 - acc: 0.6192 - val_loss: 0.9739 - val_acc: 0.6573\n",
            "Epoch 12/50\n",
            "50000/50000 [==============================] - 10s 194us/step - loss: 1.0448 - acc: 0.6312 - val_loss: 0.9718 - val_acc: 0.6635\n",
            "Epoch 13/50\n",
            "50000/50000 [==============================] - 10s 203us/step - loss: 1.0036 - acc: 0.6420 - val_loss: 0.9246 - val_acc: 0.6741\n",
            "Epoch 14/50\n",
            "50000/50000 [==============================] - 10s 196us/step - loss: 0.9736 - acc: 0.6554 - val_loss: 0.8949 - val_acc: 0.6906\n",
            "Epoch 15/50\n",
            "50000/50000 [==============================] - 10s 199us/step - loss: 0.9415 - acc: 0.6670 - val_loss: 0.8989 - val_acc: 0.6798\n",
            "Epoch 16/50\n",
            "50000/50000 [==============================] - 10s 207us/step - loss: 0.9116 - acc: 0.6776 - val_loss: 0.8464 - val_acc: 0.7057\n",
            "Epoch 17/50\n",
            "50000/50000 [==============================] - 10s 195us/step - loss: 0.8829 - acc: 0.6897 - val_loss: 0.8052 - val_acc: 0.7189\n",
            "Epoch 18/50\n",
            "50000/50000 [==============================] - 10s 196us/step - loss: 0.8551 - acc: 0.7000 - val_loss: 0.8380 - val_acc: 0.7047\n",
            "Epoch 19/50\n",
            "50000/50000 [==============================] - 10s 196us/step - loss: 0.8354 - acc: 0.7058 - val_loss: 0.7928 - val_acc: 0.7267\n",
            "Epoch 20/50\n",
            "50000/50000 [==============================] - 10s 198us/step - loss: 0.8146 - acc: 0.7149 - val_loss: 0.7511 - val_acc: 0.7396\n",
            "Epoch 21/50\n",
            "50000/50000 [==============================] - 10s 195us/step - loss: 0.7891 - acc: 0.7202 - val_loss: 0.7476 - val_acc: 0.7430\n",
            "Epoch 22/50\n",
            "50000/50000 [==============================] - 10s 203us/step - loss: 0.7733 - acc: 0.7284 - val_loss: 0.7462 - val_acc: 0.7439\n",
            "Epoch 23/50\n",
            "50000/50000 [==============================] - 10s 197us/step - loss: 0.7507 - acc: 0.7347 - val_loss: 0.7149 - val_acc: 0.7518\n",
            "Epoch 24/50\n",
            "50000/50000 [==============================] - 10s 195us/step - loss: 0.7304 - acc: 0.7437 - val_loss: 0.7371 - val_acc: 0.7450\n",
            "Epoch 25/50\n",
            "50000/50000 [==============================] - 10s 197us/step - loss: 0.7155 - acc: 0.7467 - val_loss: 0.7067 - val_acc: 0.7530\n",
            "Epoch 26/50\n",
            "50000/50000 [==============================] - 10s 198us/step - loss: 0.6992 - acc: 0.7538 - val_loss: 0.6919 - val_acc: 0.7604\n",
            "Epoch 27/50\n",
            "50000/50000 [==============================] - 10s 196us/step - loss: 0.6849 - acc: 0.7597 - val_loss: 0.6872 - val_acc: 0.7651\n",
            "Epoch 28/50\n",
            "50000/50000 [==============================] - 10s 199us/step - loss: 0.6687 - acc: 0.7645 - val_loss: 0.6828 - val_acc: 0.7668\n",
            "Epoch 29/50\n",
            "50000/50000 [==============================] - 10s 198us/step - loss: 0.6529 - acc: 0.7710 - val_loss: 0.7324 - val_acc: 0.7468\n",
            "Epoch 30/50\n",
            "50000/50000 [==============================] - 10s 194us/step - loss: 0.6361 - acc: 0.7759 - val_loss: 0.6686 - val_acc: 0.7687\n",
            "Epoch 31/50\n",
            "50000/50000 [==============================] - 10s 194us/step - loss: 0.6272 - acc: 0.7775 - val_loss: 0.6390 - val_acc: 0.7813\n",
            "Epoch 32/50\n",
            "50000/50000 [==============================] - 10s 201us/step - loss: 0.6194 - acc: 0.7814 - val_loss: 0.6460 - val_acc: 0.7760\n",
            "Epoch 33/50\n",
            "50000/50000 [==============================] - 10s 196us/step - loss: 0.6040 - acc: 0.7866 - val_loss: 0.6845 - val_acc: 0.7655\n",
            "Epoch 34/50\n",
            "50000/50000 [==============================] - 10s 204us/step - loss: 0.5894 - acc: 0.7907 - val_loss: 0.6756 - val_acc: 0.7645\n",
            "Epoch 35/50\n",
            "50000/50000 [==============================] - 10s 198us/step - loss: 0.5813 - acc: 0.7941 - val_loss: 0.6286 - val_acc: 0.7837\n",
            "Epoch 36/50\n",
            "50000/50000 [==============================] - 10s 194us/step - loss: 0.5681 - acc: 0.7991 - val_loss: 0.6314 - val_acc: 0.7837\n",
            "Epoch 37/50\n",
            "50000/50000 [==============================] - 10s 196us/step - loss: 0.5590 - acc: 0.8030 - val_loss: 0.6203 - val_acc: 0.7824\n",
            "Epoch 38/50\n",
            "50000/50000 [==============================] - 10s 197us/step - loss: 0.5477 - acc: 0.8069 - val_loss: 0.6157 - val_acc: 0.7874\n",
            "Epoch 39/50\n",
            "50000/50000 [==============================] - 10s 194us/step - loss: 0.5364 - acc: 0.8089 - val_loss: 0.6018 - val_acc: 0.7922\n",
            "Epoch 40/50\n",
            "50000/50000 [==============================] - 10s 196us/step - loss: 0.5226 - acc: 0.8145 - val_loss: 0.6332 - val_acc: 0.7841\n",
            "Epoch 41/50\n",
            "50000/50000 [==============================] - 10s 198us/step - loss: 0.5140 - acc: 0.8169 - val_loss: 0.6138 - val_acc: 0.7911\n",
            "Epoch 42/50\n",
            "50000/50000 [==============================] - 10s 193us/step - loss: 0.5082 - acc: 0.8193 - val_loss: 0.5939 - val_acc: 0.7955\n",
            "Epoch 43/50\n",
            "50000/50000 [==============================] - 10s 197us/step - loss: 0.4965 - acc: 0.8214 - val_loss: 0.5977 - val_acc: 0.7938\n",
            "Epoch 44/50\n",
            "50000/50000 [==============================] - 10s 200us/step - loss: 0.4831 - acc: 0.8277 - val_loss: 0.6061 - val_acc: 0.7966\n",
            "Epoch 45/50\n",
            "50000/50000 [==============================] - 10s 198us/step - loss: 0.4794 - acc: 0.8291 - val_loss: 0.6058 - val_acc: 0.7908\n",
            "Epoch 46/50\n",
            "50000/50000 [==============================] - 10s 193us/step - loss: 0.4698 - acc: 0.8320 - val_loss: 0.6051 - val_acc: 0.7957\n",
            "Epoch 47/50\n",
            "50000/50000 [==============================] - 10s 204us/step - loss: 0.4586 - acc: 0.8364 - val_loss: 0.6172 - val_acc: 0.7906\n",
            "Epoch 48/50\n",
            "50000/50000 [==============================] - 10s 195us/step - loss: 0.4515 - acc: 0.8377 - val_loss: 0.5991 - val_acc: 0.7946\n",
            "Epoch 49/50\n",
            "50000/50000 [==============================] - 10s 194us/step - loss: 0.4450 - acc: 0.8416 - val_loss: 0.5760 - val_acc: 0.8030\n",
            "Epoch 50/50\n",
            "50000/50000 [==============================] - 10s 196us/step - loss: 0.4342 - acc: 0.8444 - val_loss: 0.5963 - val_acc: 0.7982\n"
          ],
          "name": "stdout"
        },
        {
          "output_type": "execute_result",
          "data": {
            "text/plain": [
              "<keras.callbacks.History at 0x7ff3639ffbe0>"
            ]
          },
          "metadata": {
            "tags": []
          },
          "execution_count": 11
        }
      ]
    },
    {
      "cell_type": "markdown",
      "metadata": {
        "id": "G1qRbWtWMxPC",
        "colab_type": "text"
      },
      "source": [
        "Result: After 50 epochs, the difference between training and validation accuracy is low but the training is slow as compared to the model with batch normalization."
      ]
    }
  ]
}